{
  "nbformat": 4,
  "nbformat_minor": 0,
  "metadata": {
    "colab": {
      "provenance": []
    },
    "kernelspec": {
      "name": "python3",
      "display_name": "Python 3"
    },
    "language_info": {
      "name": "python"
    }
  },
  "cells": [
    {
      "cell_type": "markdown",
      "source": [
        "# **Входной контроль**\n",
        "\n",
        "**Цель работы**\n",
        "\n",
        "Проверить знания базовых инструментов, которые используются для обращения с данными в проектах по машинному обучению - библиотек numpy, pandas, средств визуализации matplotlib, seaborn."
      ],
      "metadata": {
        "id": "DVPC8C9_gCD3"
      }
    },
    {
      "cell_type": "markdown",
      "source": [
        "[ML_course/ML0.1 intro/](https://github.com/koroteevmv/ML_course/tree/main/ML0.1%20intro)"
      ],
      "metadata": {
        "id": "AQbDWA_syp55"
      }
    },
    {
      "cell_type": "markdown",
      "source": [
        "Среди базовых возможностей языка программирования Python при работе с анализом данных и машинным обучением чаще всего используются следующие:\n",
        "\n",
        "индексирование массивов и срезы\n",
        "генераторные выражения с условиями и циклами\n",
        "анонимные функции\n",
        "Среди средств библиотеки numpy чаще всего применяются следующие инструменты:\n",
        "\n",
        "функции генерации массивов arange, linspace, logspace\n",
        "функция генерации сетки mgrid\n",
        "функции создания матриц diag, zeroes, ones\n",
        "создание случайных значений - пакет random\n",
        "форма массива - shape\n",
        "изменение формы массива - reshape\n",
        "оператор многоточия - ...\n",
        "сложное индексирование\n",
        "индексные маски\n",
        "поэлементные операции\n",
        "Библиотека pandas особенна полезна для манипуляции двумерными массивами информации. К самым часто используемым ее возможностям в машинном обучении относятся следующие:\n",
        "\n",
        "сохранение и чтение файлов в формате csv, xls, xlsx\n",
        "аналитические функции info, describe, head\n",
        "итерация по строкам и столбцам, обращение к строкам и столбцам по номерам и индексам/названиям\n",
        "объединения и соединения таблиц\n",
        "агрегатные функции и группировка\n",
        "замена отдельных значений в таблице в том числе по условию"
      ],
      "metadata": {
        "id": "5ooJVbEPgL53"
      }
    },
    {
      "cell_type": "markdown",
      "source": [
        "**Задания для самостоятельного выполнения**"
      ],
      "metadata": {
        "id": "tNGTej6pgT0C"
      }
    },
    {
      "cell_type": "code",
      "source": [
        "import numpy as np\n",
        "import pandas as pd\n",
        "import matplotlib.pyplot as plt\n",
        "import seaborn as sns"
      ],
      "metadata": {
        "id": "ZqoVN74ou75c"
      },
      "execution_count": 90,
      "outputs": []
    },
    {
      "cell_type": "markdown",
      "source": [
        "1. С помощью массивов numpy создайте таблицу умножения."
      ],
      "metadata": {
        "id": "JK55KvTcgQhE"
      }
    },
    {
      "cell_type": "code",
      "source": [
        "# Создаем массив от 1 до 10\n",
        "array_1_to_10 = np.arange(1, 11)\n",
        "\n",
        "multiplication_table = np.outer(array_1_to_10, array_1_to_10)\n",
        "\n",
        "print(\"Таблица умножения:\")\n",
        "print(multiplication_table)"
      ],
      "metadata": {
        "id": "eCOP-2Q_gPa0"
      },
      "execution_count": null,
      "outputs": []
    },
    {
      "cell_type": "markdown",
      "source": [
        "2. Создайте функцию, которая принимает как аргументы целое число N и первый элемент (вещественное число), и разность (вещественное число) и создает матрицу numpy по диагонали, которой располагаются первые N членов арифметической прогрессии."
      ],
      "metadata": {
        "id": "POXiUagUgZtW"
      }
    },
    {
      "cell_type": "code",
      "source": [
        "def arithmetic_progression_matrix(N, first_element, difference):\n",
        "    # Генерируем массив с N членами арифметической прогрессии\n",
        "    progression = np.arange(first_element, first_element + N * difference, difference)\n",
        "\n",
        "    # Создаем диагональную матрицу с полученным массивом в качестве диагонали\n",
        "    diagonal_matrix = np.diag(progression)\n",
        "\n",
        "    return diagonal_matrix\n",
        "\n",
        "N = 5  # Количество членов прогрессии\n",
        "first_element = 2.5  # Первый элемент\n",
        "difference = 3.0  # Разность арифметической прогрессии\n",
        "\n",
        "result_matrix = arithmetic_progression_matrix(N, first_element, difference)\n",
        "print(\"Матрица с диагональю из первых N членов арифметической прогрессии:\")\n",
        "print(result_matrix)"
      ],
      "metadata": {
        "colab": {
          "base_uri": "https://localhost:8080/"
        },
        "id": "MFPZ3XodhRzS",
        "outputId": "4d4d58d0-d3ac-49b6-e775-c2c13dc3ce7c"
      },
      "execution_count": 93,
      "outputs": [
        {
          "output_type": "stream",
          "name": "stdout",
          "text": [
            "Матрица с диагональю из первых N членов арифметической прогрессии:\n",
            "[[ 2.5  0.   0.   0.   0. ]\n",
            " [ 0.   5.5  0.   0.   0. ]\n",
            " [ 0.   0.   8.5  0.   0. ]\n",
            " [ 0.   0.   0.  11.5  0. ]\n",
            " [ 0.   0.   0.   0.  14.5]]\n"
          ]
        }
      ]
    },
    {
      "cell_type": "markdown",
      "source": [
        "3. Сгенерируйте средствами numpy матрицу А 5 на 5, содержащую последовательные числа от 1 до 25. Используя срезы извлеките в плоский массив все нечетные элементы этой матрицы."
      ],
      "metadata": {
        "id": "nXdaGT7cgefd"
      }
    },
    {
      "cell_type": "code",
      "source": [
        "# Создаем матрицу 5x5, содержащую числа от 1 до 25\n",
        "matrix_A = np.arange(1, 26).reshape(5, 5)\n",
        "\n",
        "print(\"Матрица А:\")\n",
        "print(matrix_A)\n",
        "\n",
        "# Извлекаем все нечетные элементы в плоский массив с помощью срезов\n",
        "odd_elements = matrix_A[matrix_A % 2 != 0]\n",
        "\n",
        "print(\"\\nВсе нечетные элементы матрицы А в плоском массиве:\")\n",
        "print(odd_elements)"
      ],
      "metadata": {
        "colab": {
          "base_uri": "https://localhost:8080/"
        },
        "id": "mbQrjZSug4Q7",
        "outputId": "93686155-f556-4c64-ce2d-89dd641958b4"
      },
      "execution_count": 94,
      "outputs": [
        {
          "output_type": "stream",
          "name": "stdout",
          "text": [
            "Матрица А:\n",
            "[[ 1  2  3  4  5]\n",
            " [ 6  7  8  9 10]\n",
            " [11 12 13 14 15]\n",
            " [16 17 18 19 20]\n",
            " [21 22 23 24 25]]\n",
            "\n",
            "Все нечетные элементы матрицы А в плоском массиве:\n",
            "[ 1  3  5  7  9 11 13 15 17 19 21 23 25]\n"
          ]
        }
      ]
    },
    {
      "cell_type": "markdown",
      "source": [
        "4. Создайте двумерный массив, содержащий единицы на границе и нули внутри.\n"
      ],
      "metadata": {
        "id": "LpG9rgDthWp2"
      }
    },
    {
      "cell_type": "code",
      "source": [
        "# Задаем размеры массива (строки, столбцы)\n",
        "rows, cols = 6, 8\n",
        "\n",
        "array = np.zeros((rows, cols))\n",
        "\n",
        "# Заполняем границы массива единицами\n",
        "array[0, :] = 1  # верхняя граница\n",
        "array[-1, :] = 1  # нижняя граница\n",
        "array[:, 0] = 1  # левая граница\n",
        "array[:, -1] = 1  # правая граница\n",
        "\n",
        "print(array)"
      ],
      "metadata": {
        "colab": {
          "base_uri": "https://localhost:8080/"
        },
        "id": "vLpatIXFhX3w",
        "outputId": "56fb2c24-80ee-4ae3-ae1a-1073b5d58508"
      },
      "execution_count": 95,
      "outputs": [
        {
          "output_type": "stream",
          "name": "stdout",
          "text": [
            "[[1. 1. 1. 1. 1. 1. 1. 1.]\n",
            " [1. 0. 0. 0. 0. 0. 0. 1.]\n",
            " [1. 0. 0. 0. 0. 0. 0. 1.]\n",
            " [1. 0. 0. 0. 0. 0. 0. 1.]\n",
            " [1. 0. 0. 0. 0. 0. 0. 1.]\n",
            " [1. 1. 1. 1. 1. 1. 1. 1.]]\n"
          ]
        }
      ]
    },
    {
      "cell_type": "markdown",
      "source": [
        "5. Создайте две матрицы размером (5,5). Одна матрица содержит 5 в шахматном порядке как в задаче домашнего задания, другая имеет треугольную форму содержащую 5 на основной диагонали и в позициях выше ее, а ниже все 0. Посчитайте их детерминант и найдите обратные матрицы."
      ],
      "metadata": {
        "id": "pMx6aJrZj2WU"
      }
    },
    {
      "cell_type": "code",
      "source": [
        "# Создание матрицы с числом 5 в шахматном порядке\n",
        "matrix_chessboard = np.array([[5 if (i + j) % 2 == 0 else 0 for j in range(5)] for i in range(5)])\n",
        "print(\"Матрица в шахматном порядке:\")\n",
        "print(matrix_chessboard)"
      ],
      "metadata": {
        "colab": {
          "base_uri": "https://localhost:8080/"
        },
        "id": "1jm1bXMBjzVM",
        "outputId": "70a8cc6d-d3a3-4dc0-ccc2-720e2a740106"
      },
      "execution_count": 96,
      "outputs": [
        {
          "output_type": "stream",
          "name": "stdout",
          "text": [
            "Матрица в шахматном порядке:\n",
            "[[5 0 5 0 5]\n",
            " [0 5 0 5 0]\n",
            " [5 0 5 0 5]\n",
            " [0 5 0 5 0]\n",
            " [5 0 5 0 5]]\n"
          ]
        }
      ]
    },
    {
      "cell_type": "markdown",
      "source": [
        "6. С помощью pandas загрузите датасет для предсказания цены квартиры, прилагающийся к этой работе."
      ],
      "metadata": {
        "id": "HG4B2eYij_FF"
      }
    },
    {
      "cell_type": "code",
      "source": [
        "# URL файла на GitHub\n",
        "url = 'https://raw.githubusercontent.com/koroteevmv/ML_course/main/ML0.1%20intro/data.csv'\n",
        "\n",
        "# Загрузка данных с помощью Pandas\n",
        "db = pd.read_csv(url)\n",
        "data = db\n",
        "db"
      ],
      "metadata": {
        "colab": {
          "base_uri": "https://localhost:8080/",
          "height": 439
        },
        "id": "HO2UArxYlJmA",
        "outputId": "920d093f-4407-421f-c521-78f70eccab5b"
      },
      "execution_count": 97,
      "outputs": [
        {
          "output_type": "execute_result",
          "data": {
            "text/plain": [
              "         Id  DistrictId  Rooms      Square  LifeSquare  KitchenSquare  Floor  \\\n",
              "0     11809          27    3.0  115.027311         NaN           10.0      4   \n",
              "1      3013          22    1.0   39.832524   23.169223            8.0      7   \n",
              "2      8215           1    3.0   78.342215   47.671972           10.0      2   \n",
              "3      2352           1    1.0   40.409907         NaN            1.0     10   \n",
              "4     13866          94    2.0   64.285067   38.562517            9.0     16   \n",
              "...     ...         ...    ...         ...         ...            ...    ...   \n",
              "9995   1260          61    2.0   49.090728   33.272626            6.0      3   \n",
              "9996  16265          27    2.0   64.307684   37.038420            9.0     13   \n",
              "9997   2795         178    1.0   29.648057   16.555363            5.0      3   \n",
              "9998  14561          21    1.0   32.330292   22.326870            5.0      3   \n",
              "9999   7202          94    1.0   35.815476   22.301367            6.0      9   \n",
              "\n",
              "      HouseFloor  HouseYear  Ecology_1 Ecology_2 Ecology_3  Social_1  \\\n",
              "0           10.0       2014   0.075424         B         B        11   \n",
              "1            8.0       1966   0.118537         B         B        30   \n",
              "2           17.0       1988   0.025609         B         B        33   \n",
              "3           22.0       1977   0.007122         B         B         1   \n",
              "4           16.0       1972   0.282798         B         B        33   \n",
              "...          ...        ...        ...       ...       ...       ...   \n",
              "9995        12.0       1981   0.300323         B         B        52   \n",
              "9996         0.0       1977   0.072158         B         B         2   \n",
              "9997         5.0       1958   0.460556         B         B        20   \n",
              "9998         9.0       1969   0.194489         B         B        47   \n",
              "9999         9.0       1975   0.127376         B         B        43   \n",
              "\n",
              "      Social_2  Social_3  Healthcare_1  Helthcare_2  Shops_1 Shops_2  \\\n",
              "0         3097         0           NaN            0        0       B   \n",
              "1         6207         1        1183.0            1        0       B   \n",
              "2         5261         0         240.0            3        1       B   \n",
              "3          264         0           NaN            0        1       B   \n",
              "4         8667         2           NaN            0        6       B   \n",
              "...        ...       ...           ...          ...      ...     ...   \n",
              "9995     10311         6           NaN            1        9       B   \n",
              "9996       629         1           NaN            0        0       A   \n",
              "9997      4386        14           NaN            1        5       B   \n",
              "9998      8004         3         125.0            3        5       B   \n",
              "9999      8429         3           NaN            3        9       B   \n",
              "\n",
              "              Price  \n",
              "0     305018.871089  \n",
              "1     177734.553407  \n",
              "2     282078.720850  \n",
              "3     168106.007630  \n",
              "4     343995.102962  \n",
              "...             ...  \n",
              "9995  119367.455796  \n",
              "9996  199715.148807  \n",
              "9997  165953.912580  \n",
              "9998  171842.411855  \n",
              "9999  177685.627486  \n",
              "\n",
              "[10000 rows x 20 columns]"
            ],
            "text/html": [
              "\n",
              "  <div id=\"df-45e04b98-c6e3-4e46-9253-5043ff69c70a\" class=\"colab-df-container\">\n",
              "    <div>\n",
              "<style scoped>\n",
              "    .dataframe tbody tr th:only-of-type {\n",
              "        vertical-align: middle;\n",
              "    }\n",
              "\n",
              "    .dataframe tbody tr th {\n",
              "        vertical-align: top;\n",
              "    }\n",
              "\n",
              "    .dataframe thead th {\n",
              "        text-align: right;\n",
              "    }\n",
              "</style>\n",
              "<table border=\"1\" class=\"dataframe\">\n",
              "  <thead>\n",
              "    <tr style=\"text-align: right;\">\n",
              "      <th></th>\n",
              "      <th>Id</th>\n",
              "      <th>DistrictId</th>\n",
              "      <th>Rooms</th>\n",
              "      <th>Square</th>\n",
              "      <th>LifeSquare</th>\n",
              "      <th>KitchenSquare</th>\n",
              "      <th>Floor</th>\n",
              "      <th>HouseFloor</th>\n",
              "      <th>HouseYear</th>\n",
              "      <th>Ecology_1</th>\n",
              "      <th>Ecology_2</th>\n",
              "      <th>Ecology_3</th>\n",
              "      <th>Social_1</th>\n",
              "      <th>Social_2</th>\n",
              "      <th>Social_3</th>\n",
              "      <th>Healthcare_1</th>\n",
              "      <th>Helthcare_2</th>\n",
              "      <th>Shops_1</th>\n",
              "      <th>Shops_2</th>\n",
              "      <th>Price</th>\n",
              "    </tr>\n",
              "  </thead>\n",
              "  <tbody>\n",
              "    <tr>\n",
              "      <th>0</th>\n",
              "      <td>11809</td>\n",
              "      <td>27</td>\n",
              "      <td>3.0</td>\n",
              "      <td>115.027311</td>\n",
              "      <td>NaN</td>\n",
              "      <td>10.0</td>\n",
              "      <td>4</td>\n",
              "      <td>10.0</td>\n",
              "      <td>2014</td>\n",
              "      <td>0.075424</td>\n",
              "      <td>B</td>\n",
              "      <td>B</td>\n",
              "      <td>11</td>\n",
              "      <td>3097</td>\n",
              "      <td>0</td>\n",
              "      <td>NaN</td>\n",
              "      <td>0</td>\n",
              "      <td>0</td>\n",
              "      <td>B</td>\n",
              "      <td>305018.871089</td>\n",
              "    </tr>\n",
              "    <tr>\n",
              "      <th>1</th>\n",
              "      <td>3013</td>\n",
              "      <td>22</td>\n",
              "      <td>1.0</td>\n",
              "      <td>39.832524</td>\n",
              "      <td>23.169223</td>\n",
              "      <td>8.0</td>\n",
              "      <td>7</td>\n",
              "      <td>8.0</td>\n",
              "      <td>1966</td>\n",
              "      <td>0.118537</td>\n",
              "      <td>B</td>\n",
              "      <td>B</td>\n",
              "      <td>30</td>\n",
              "      <td>6207</td>\n",
              "      <td>1</td>\n",
              "      <td>1183.0</td>\n",
              "      <td>1</td>\n",
              "      <td>0</td>\n",
              "      <td>B</td>\n",
              "      <td>177734.553407</td>\n",
              "    </tr>\n",
              "    <tr>\n",
              "      <th>2</th>\n",
              "      <td>8215</td>\n",
              "      <td>1</td>\n",
              "      <td>3.0</td>\n",
              "      <td>78.342215</td>\n",
              "      <td>47.671972</td>\n",
              "      <td>10.0</td>\n",
              "      <td>2</td>\n",
              "      <td>17.0</td>\n",
              "      <td>1988</td>\n",
              "      <td>0.025609</td>\n",
              "      <td>B</td>\n",
              "      <td>B</td>\n",
              "      <td>33</td>\n",
              "      <td>5261</td>\n",
              "      <td>0</td>\n",
              "      <td>240.0</td>\n",
              "      <td>3</td>\n",
              "      <td>1</td>\n",
              "      <td>B</td>\n",
              "      <td>282078.720850</td>\n",
              "    </tr>\n",
              "    <tr>\n",
              "      <th>3</th>\n",
              "      <td>2352</td>\n",
              "      <td>1</td>\n",
              "      <td>1.0</td>\n",
              "      <td>40.409907</td>\n",
              "      <td>NaN</td>\n",
              "      <td>1.0</td>\n",
              "      <td>10</td>\n",
              "      <td>22.0</td>\n",
              "      <td>1977</td>\n",
              "      <td>0.007122</td>\n",
              "      <td>B</td>\n",
              "      <td>B</td>\n",
              "      <td>1</td>\n",
              "      <td>264</td>\n",
              "      <td>0</td>\n",
              "      <td>NaN</td>\n",
              "      <td>0</td>\n",
              "      <td>1</td>\n",
              "      <td>B</td>\n",
              "      <td>168106.007630</td>\n",
              "    </tr>\n",
              "    <tr>\n",
              "      <th>4</th>\n",
              "      <td>13866</td>\n",
              "      <td>94</td>\n",
              "      <td>2.0</td>\n",
              "      <td>64.285067</td>\n",
              "      <td>38.562517</td>\n",
              "      <td>9.0</td>\n",
              "      <td>16</td>\n",
              "      <td>16.0</td>\n",
              "      <td>1972</td>\n",
              "      <td>0.282798</td>\n",
              "      <td>B</td>\n",
              "      <td>B</td>\n",
              "      <td>33</td>\n",
              "      <td>8667</td>\n",
              "      <td>2</td>\n",
              "      <td>NaN</td>\n",
              "      <td>0</td>\n",
              "      <td>6</td>\n",
              "      <td>B</td>\n",
              "      <td>343995.102962</td>\n",
              "    </tr>\n",
              "    <tr>\n",
              "      <th>...</th>\n",
              "      <td>...</td>\n",
              "      <td>...</td>\n",
              "      <td>...</td>\n",
              "      <td>...</td>\n",
              "      <td>...</td>\n",
              "      <td>...</td>\n",
              "      <td>...</td>\n",
              "      <td>...</td>\n",
              "      <td>...</td>\n",
              "      <td>...</td>\n",
              "      <td>...</td>\n",
              "      <td>...</td>\n",
              "      <td>...</td>\n",
              "      <td>...</td>\n",
              "      <td>...</td>\n",
              "      <td>...</td>\n",
              "      <td>...</td>\n",
              "      <td>...</td>\n",
              "      <td>...</td>\n",
              "      <td>...</td>\n",
              "    </tr>\n",
              "    <tr>\n",
              "      <th>9995</th>\n",
              "      <td>1260</td>\n",
              "      <td>61</td>\n",
              "      <td>2.0</td>\n",
              "      <td>49.090728</td>\n",
              "      <td>33.272626</td>\n",
              "      <td>6.0</td>\n",
              "      <td>3</td>\n",
              "      <td>12.0</td>\n",
              "      <td>1981</td>\n",
              "      <td>0.300323</td>\n",
              "      <td>B</td>\n",
              "      <td>B</td>\n",
              "      <td>52</td>\n",
              "      <td>10311</td>\n",
              "      <td>6</td>\n",
              "      <td>NaN</td>\n",
              "      <td>1</td>\n",
              "      <td>9</td>\n",
              "      <td>B</td>\n",
              "      <td>119367.455796</td>\n",
              "    </tr>\n",
              "    <tr>\n",
              "      <th>9996</th>\n",
              "      <td>16265</td>\n",
              "      <td>27</td>\n",
              "      <td>2.0</td>\n",
              "      <td>64.307684</td>\n",
              "      <td>37.038420</td>\n",
              "      <td>9.0</td>\n",
              "      <td>13</td>\n",
              "      <td>0.0</td>\n",
              "      <td>1977</td>\n",
              "      <td>0.072158</td>\n",
              "      <td>B</td>\n",
              "      <td>B</td>\n",
              "      <td>2</td>\n",
              "      <td>629</td>\n",
              "      <td>1</td>\n",
              "      <td>NaN</td>\n",
              "      <td>0</td>\n",
              "      <td>0</td>\n",
              "      <td>A</td>\n",
              "      <td>199715.148807</td>\n",
              "    </tr>\n",
              "    <tr>\n",
              "      <th>9997</th>\n",
              "      <td>2795</td>\n",
              "      <td>178</td>\n",
              "      <td>1.0</td>\n",
              "      <td>29.648057</td>\n",
              "      <td>16.555363</td>\n",
              "      <td>5.0</td>\n",
              "      <td>3</td>\n",
              "      <td>5.0</td>\n",
              "      <td>1958</td>\n",
              "      <td>0.460556</td>\n",
              "      <td>B</td>\n",
              "      <td>B</td>\n",
              "      <td>20</td>\n",
              "      <td>4386</td>\n",
              "      <td>14</td>\n",
              "      <td>NaN</td>\n",
              "      <td>1</td>\n",
              "      <td>5</td>\n",
              "      <td>B</td>\n",
              "      <td>165953.912580</td>\n",
              "    </tr>\n",
              "    <tr>\n",
              "      <th>9998</th>\n",
              "      <td>14561</td>\n",
              "      <td>21</td>\n",
              "      <td>1.0</td>\n",
              "      <td>32.330292</td>\n",
              "      <td>22.326870</td>\n",
              "      <td>5.0</td>\n",
              "      <td>3</td>\n",
              "      <td>9.0</td>\n",
              "      <td>1969</td>\n",
              "      <td>0.194489</td>\n",
              "      <td>B</td>\n",
              "      <td>B</td>\n",
              "      <td>47</td>\n",
              "      <td>8004</td>\n",
              "      <td>3</td>\n",
              "      <td>125.0</td>\n",
              "      <td>3</td>\n",
              "      <td>5</td>\n",
              "      <td>B</td>\n",
              "      <td>171842.411855</td>\n",
              "    </tr>\n",
              "    <tr>\n",
              "      <th>9999</th>\n",
              "      <td>7202</td>\n",
              "      <td>94</td>\n",
              "      <td>1.0</td>\n",
              "      <td>35.815476</td>\n",
              "      <td>22.301367</td>\n",
              "      <td>6.0</td>\n",
              "      <td>9</td>\n",
              "      <td>9.0</td>\n",
              "      <td>1975</td>\n",
              "      <td>0.127376</td>\n",
              "      <td>B</td>\n",
              "      <td>B</td>\n",
              "      <td>43</td>\n",
              "      <td>8429</td>\n",
              "      <td>3</td>\n",
              "      <td>NaN</td>\n",
              "      <td>3</td>\n",
              "      <td>9</td>\n",
              "      <td>B</td>\n",
              "      <td>177685.627486</td>\n",
              "    </tr>\n",
              "  </tbody>\n",
              "</table>\n",
              "<p>10000 rows × 20 columns</p>\n",
              "</div>\n",
              "    <div class=\"colab-df-buttons\">\n",
              "\n",
              "  <div class=\"colab-df-container\">\n",
              "    <button class=\"colab-df-convert\" onclick=\"convertToInteractive('df-45e04b98-c6e3-4e46-9253-5043ff69c70a')\"\n",
              "            title=\"Convert this dataframe to an interactive table.\"\n",
              "            style=\"display:none;\">\n",
              "\n",
              "  <svg xmlns=\"http://www.w3.org/2000/svg\" height=\"24px\" viewBox=\"0 -960 960 960\">\n",
              "    <path d=\"M120-120v-720h720v720H120Zm60-500h600v-160H180v160Zm220 220h160v-160H400v160Zm0 220h160v-160H400v160ZM180-400h160v-160H180v160Zm440 0h160v-160H620v160ZM180-180h160v-160H180v160Zm440 0h160v-160H620v160Z\"/>\n",
              "  </svg>\n",
              "    </button>\n",
              "\n",
              "  <style>\n",
              "    .colab-df-container {\n",
              "      display:flex;\n",
              "      gap: 12px;\n",
              "    }\n",
              "\n",
              "    .colab-df-convert {\n",
              "      background-color: #E8F0FE;\n",
              "      border: none;\n",
              "      border-radius: 50%;\n",
              "      cursor: pointer;\n",
              "      display: none;\n",
              "      fill: #1967D2;\n",
              "      height: 32px;\n",
              "      padding: 0 0 0 0;\n",
              "      width: 32px;\n",
              "    }\n",
              "\n",
              "    .colab-df-convert:hover {\n",
              "      background-color: #E2EBFA;\n",
              "      box-shadow: 0px 1px 2px rgba(60, 64, 67, 0.3), 0px 1px 3px 1px rgba(60, 64, 67, 0.15);\n",
              "      fill: #174EA6;\n",
              "    }\n",
              "\n",
              "    .colab-df-buttons div {\n",
              "      margin-bottom: 4px;\n",
              "    }\n",
              "\n",
              "    [theme=dark] .colab-df-convert {\n",
              "      background-color: #3B4455;\n",
              "      fill: #D2E3FC;\n",
              "    }\n",
              "\n",
              "    [theme=dark] .colab-df-convert:hover {\n",
              "      background-color: #434B5C;\n",
              "      box-shadow: 0px 1px 3px 1px rgba(0, 0, 0, 0.15);\n",
              "      filter: drop-shadow(0px 1px 2px rgba(0, 0, 0, 0.3));\n",
              "      fill: #FFFFFF;\n",
              "    }\n",
              "  </style>\n",
              "\n",
              "    <script>\n",
              "      const buttonEl =\n",
              "        document.querySelector('#df-45e04b98-c6e3-4e46-9253-5043ff69c70a button.colab-df-convert');\n",
              "      buttonEl.style.display =\n",
              "        google.colab.kernel.accessAllowed ? 'block' : 'none';\n",
              "\n",
              "      async function convertToInteractive(key) {\n",
              "        const element = document.querySelector('#df-45e04b98-c6e3-4e46-9253-5043ff69c70a');\n",
              "        const dataTable =\n",
              "          await google.colab.kernel.invokeFunction('convertToInteractive',\n",
              "                                                    [key], {});\n",
              "        if (!dataTable) return;\n",
              "\n",
              "        const docLinkHtml = 'Like what you see? Visit the ' +\n",
              "          '<a target=\"_blank\" href=https://colab.research.google.com/notebooks/data_table.ipynb>data table notebook</a>'\n",
              "          + ' to learn more about interactive tables.';\n",
              "        element.innerHTML = '';\n",
              "        dataTable['output_type'] = 'display_data';\n",
              "        await google.colab.output.renderOutput(dataTable, element);\n",
              "        const docLink = document.createElement('div');\n",
              "        docLink.innerHTML = docLinkHtml;\n",
              "        element.appendChild(docLink);\n",
              "      }\n",
              "    </script>\n",
              "  </div>\n",
              "\n",
              "\n",
              "<div id=\"df-ca497ef8-8f16-49ea-a916-776adbf70cea\">\n",
              "  <button class=\"colab-df-quickchart\" onclick=\"quickchart('df-ca497ef8-8f16-49ea-a916-776adbf70cea')\"\n",
              "            title=\"Suggest charts\"\n",
              "            style=\"display:none;\">\n",
              "\n",
              "<svg xmlns=\"http://www.w3.org/2000/svg\" height=\"24px\"viewBox=\"0 0 24 24\"\n",
              "     width=\"24px\">\n",
              "    <g>\n",
              "        <path d=\"M19 3H5c-1.1 0-2 .9-2 2v14c0 1.1.9 2 2 2h14c1.1 0 2-.9 2-2V5c0-1.1-.9-2-2-2zM9 17H7v-7h2v7zm4 0h-2V7h2v10zm4 0h-2v-4h2v4z\"/>\n",
              "    </g>\n",
              "</svg>\n",
              "  </button>\n",
              "\n",
              "<style>\n",
              "  .colab-df-quickchart {\n",
              "      --bg-color: #E8F0FE;\n",
              "      --fill-color: #1967D2;\n",
              "      --hover-bg-color: #E2EBFA;\n",
              "      --hover-fill-color: #174EA6;\n",
              "      --disabled-fill-color: #AAA;\n",
              "      --disabled-bg-color: #DDD;\n",
              "  }\n",
              "\n",
              "  [theme=dark] .colab-df-quickchart {\n",
              "      --bg-color: #3B4455;\n",
              "      --fill-color: #D2E3FC;\n",
              "      --hover-bg-color: #434B5C;\n",
              "      --hover-fill-color: #FFFFFF;\n",
              "      --disabled-bg-color: #3B4455;\n",
              "      --disabled-fill-color: #666;\n",
              "  }\n",
              "\n",
              "  .colab-df-quickchart {\n",
              "    background-color: var(--bg-color);\n",
              "    border: none;\n",
              "    border-radius: 50%;\n",
              "    cursor: pointer;\n",
              "    display: none;\n",
              "    fill: var(--fill-color);\n",
              "    height: 32px;\n",
              "    padding: 0;\n",
              "    width: 32px;\n",
              "  }\n",
              "\n",
              "  .colab-df-quickchart:hover {\n",
              "    background-color: var(--hover-bg-color);\n",
              "    box-shadow: 0 1px 2px rgba(60, 64, 67, 0.3), 0 1px 3px 1px rgba(60, 64, 67, 0.15);\n",
              "    fill: var(--button-hover-fill-color);\n",
              "  }\n",
              "\n",
              "  .colab-df-quickchart-complete:disabled,\n",
              "  .colab-df-quickchart-complete:disabled:hover {\n",
              "    background-color: var(--disabled-bg-color);\n",
              "    fill: var(--disabled-fill-color);\n",
              "    box-shadow: none;\n",
              "  }\n",
              "\n",
              "  .colab-df-spinner {\n",
              "    border: 2px solid var(--fill-color);\n",
              "    border-color: transparent;\n",
              "    border-bottom-color: var(--fill-color);\n",
              "    animation:\n",
              "      spin 1s steps(1) infinite;\n",
              "  }\n",
              "\n",
              "  @keyframes spin {\n",
              "    0% {\n",
              "      border-color: transparent;\n",
              "      border-bottom-color: var(--fill-color);\n",
              "      border-left-color: var(--fill-color);\n",
              "    }\n",
              "    20% {\n",
              "      border-color: transparent;\n",
              "      border-left-color: var(--fill-color);\n",
              "      border-top-color: var(--fill-color);\n",
              "    }\n",
              "    30% {\n",
              "      border-color: transparent;\n",
              "      border-left-color: var(--fill-color);\n",
              "      border-top-color: var(--fill-color);\n",
              "      border-right-color: var(--fill-color);\n",
              "    }\n",
              "    40% {\n",
              "      border-color: transparent;\n",
              "      border-right-color: var(--fill-color);\n",
              "      border-top-color: var(--fill-color);\n",
              "    }\n",
              "    60% {\n",
              "      border-color: transparent;\n",
              "      border-right-color: var(--fill-color);\n",
              "    }\n",
              "    80% {\n",
              "      border-color: transparent;\n",
              "      border-right-color: var(--fill-color);\n",
              "      border-bottom-color: var(--fill-color);\n",
              "    }\n",
              "    90% {\n",
              "      border-color: transparent;\n",
              "      border-bottom-color: var(--fill-color);\n",
              "    }\n",
              "  }\n",
              "</style>\n",
              "\n",
              "  <script>\n",
              "    async function quickchart(key) {\n",
              "      const quickchartButtonEl =\n",
              "        document.querySelector('#' + key + ' button');\n",
              "      quickchartButtonEl.disabled = true;  // To prevent multiple clicks.\n",
              "      quickchartButtonEl.classList.add('colab-df-spinner');\n",
              "      try {\n",
              "        const charts = await google.colab.kernel.invokeFunction(\n",
              "            'suggestCharts', [key], {});\n",
              "      } catch (error) {\n",
              "        console.error('Error during call to suggestCharts:', error);\n",
              "      }\n",
              "      quickchartButtonEl.classList.remove('colab-df-spinner');\n",
              "      quickchartButtonEl.classList.add('colab-df-quickchart-complete');\n",
              "    }\n",
              "    (() => {\n",
              "      let quickchartButtonEl =\n",
              "        document.querySelector('#df-ca497ef8-8f16-49ea-a916-776adbf70cea button');\n",
              "      quickchartButtonEl.style.display =\n",
              "        google.colab.kernel.accessAllowed ? 'block' : 'none';\n",
              "    })();\n",
              "  </script>\n",
              "</div>\n",
              "    </div>\n",
              "  </div>\n"
            ]
          },
          "metadata": {},
          "execution_count": 97
        }
      ]
    },
    {
      "cell_type": "markdown",
      "source": [
        "7. Выведите на экран несколько первых и несколько последний строк файла.\n",
        "\n"
      ],
      "metadata": {
        "id": "NiDDl4pZkDsY"
      }
    },
    {
      "cell_type": "code",
      "source": [
        "print(db.head(3))\n",
        "print(db.tail(3))"
      ],
      "metadata": {
        "id": "WlTTVEP9lKDK"
      },
      "execution_count": null,
      "outputs": []
    },
    {
      "cell_type": "markdown",
      "source": [
        "8. Выведите с помощью методов pandas основные количественные параметры датасета: количество строк и столбцов, тип данных каждого поля, количество значений в каждом столбце, шкала измерения каждого численного поля."
      ],
      "metadata": {
        "id": "MP2b8vptkFa2"
      }
    },
    {
      "cell_type": "code",
      "source": [
        "print(\"Количество строк и столбцов в датасете:\", db.shape)\n",
        "print(\"\\nТип данных каждого поля:\\n\", db.dtypes)\n",
        "print(\"\\nКоличество значений в каждом столбце:\\n\", db.count())\n",
        "print(\"\\nШкала измерения каждого численного поля:\\n\", db.describe())"
      ],
      "metadata": {
        "id": "wGHBJd9JlKZ3"
      },
      "execution_count": null,
      "outputs": []
    },
    {
      "cell_type": "markdown",
      "source": [
        "9. Удалите из таблицы столбцы, содержащие идентификаторы, переименуйте все оставшиеся названия колонок на русском языке."
      ],
      "metadata": {
        "id": "UkeOt274kG73"
      }
    },
    {
      "cell_type": "code",
      "source": [
        "db = db.drop(['Id'], axis=1)\n",
        "db"
      ],
      "metadata": {
        "id": "yESqPyaJmHR2"
      },
      "execution_count": null,
      "outputs": []
    },
    {
      "cell_type": "code",
      "source": [
        "db.columns=['Код района', 'Комнаты', 'Площадь', 'Площадь жилого помещения', 'Площадь кухни','Этаж','Кол-во этажей в доме','Год постройки дома','Экология1','Экология2','Экология3','Соц1','Соц2','Соц3','Здравоохранение1','Здравоохранение2', 'Магазины1', 'Магазины2','Цена']\n",
        "db"
      ],
      "metadata": {
        "id": "3qdyWqkGlK6c"
      },
      "execution_count": null,
      "outputs": []
    },
    {
      "cell_type": "markdown",
      "source": [
        "10. Выведите отдельно столбец, содержащий цену, по номеру и названию. Выведите первую, десятую и предпоследнюю строку таблицы по номеру и по индексу."
      ],
      "metadata": {
        "id": "PQOjptxnkIe2"
      }
    },
    {
      "cell_type": "code",
      "source": [
        "# ПО НАЗВАНИЮ\n",
        "db['Цена']"
      ],
      "metadata": {
        "id": "9kcM13N3lLWt"
      },
      "execution_count": null,
      "outputs": []
    },
    {
      "cell_type": "code",
      "source": [
        "# ПО НОМЕРУ\n",
        "db[db.columns[-1]]"
      ],
      "metadata": {
        "id": "PfJX8FnToID0"
      },
      "execution_count": null,
      "outputs": []
    },
    {
      "cell_type": "code",
      "source": [
        "# Строки по индексам\n",
        "db.iloc[0], db.iloc[9], db.iloc[-2]"
      ],
      "metadata": {
        "id": "AMNnmHRuoKIn"
      },
      "execution_count": null,
      "outputs": []
    },
    {
      "cell_type": "code",
      "source": [
        "# Строки по номеру\n",
        "db.iloc[1], db.iloc[10], db.iloc[-2]"
      ],
      "metadata": {
        "id": "RJ9tQxJAoS8p"
      },
      "execution_count": null,
      "outputs": []
    },
    {
      "cell_type": "markdown",
      "source": [
        "11. Выделите в отдельную таблицу последние десять строк. Уберите в ней столбец с ценой. Склейте ее с первоначальной таблицей при помощи append. Заполните отсутствующие значения цены средним по таблице."
      ],
      "metadata": {
        "id": "NPN9xMivkKSp"
      }
    },
    {
      "cell_type": "code",
      "source": [
        "newdb_11 = db.iloc[-10:]\n",
        "newdb_11 = newdb_11.drop(['Цена'], axis=1)\n",
        "dbnew_11 = db.append(newdb_11)\n",
        "\n",
        "mean = db['Цена'].mean()\n",
        "dbnew_11['Цена'] = dbnew_11['Цена'].fillna(mean)\n",
        "dbnew_11"
      ],
      "metadata": {
        "id": "eyvfrxbqlLyO"
      },
      "execution_count": null,
      "outputs": []
    },
    {
      "cell_type": "markdown",
      "source": [
        "12. Выделите пять последних колонок в отдельную таблицу. Удалите в ней строки, в которых цена ниже среднего. Присоедините эту таблицу к изначальной (выберите самый подходящий тип соединения)."
      ],
      "metadata": {
        "id": "_efi64lGkLym"
      }
    },
    {
      "cell_type": "code",
      "source": [
        "new12 = db[db.columns[-5:]]\n",
        "new12 = new12[new12.Цена >= mean]\n",
        "new12\n",
        "\n",
        "pd.concat([db,new12], sort = False,axis = 0)"
      ],
      "metadata": {
        "id": "eCEce1HFlMKE"
      },
      "execution_count": null,
      "outputs": []
    },
    {
      "cell_type": "markdown",
      "source": [
        "13. Выведите таблицу, содержащую среднюю цену и количество квартир на каждом этаже из первоначального набора данных."
      ],
      "metadata": {
        "id": "-QVxBHaBkNAh"
      }
    },
    {
      "cell_type": "code",
      "source": [
        "result = db.groupby('Этаж').agg({'Цена': 'mean', 'Комнаты': 'count'}).reset_index()\n",
        "result.columns = ['Этаж', 'Средняя цена', 'Количество квартир']\n",
        "print(result)"
      ],
      "metadata": {
        "id": "FpktRJA2lMm2"
      },
      "execution_count": null,
      "outputs": []
    },
    {
      "cell_type": "markdown",
      "source": [
        "14. Сохраните получившуюся таблицу в файлы формата csv и xlsx. Прочитайте их и убедитесь, что данные отображаются корректно."
      ],
      "metadata": {
        "id": "ptA9NTfhkORh"
      }
    },
    {
      "cell_type": "code",
      "source": [
        "# Сохранение данных в CSV\n",
        "result.to_csv('result.csv', index=False)\n",
        "\n",
        "# Сохранение данных в XLSX\n",
        "result.to_excel('result.xlsx', index=False)\n",
        "\n",
        "# Чтение файлов CSV и XLSX\n",
        "data_from_csv = pd.read_csv('result.csv')\n",
        "data_from_xlsx = pd.read_excel('result.xlsx')\n",
        "\n",
        "# Вывод данных из файлов CSV и XLSX для проверки\n",
        "print(\"Данные из файла CSV:\")\n",
        "print(data_from_csv)\n",
        "\n",
        "print(\"\\nДанные из файла XLSX:\")\n",
        "print(data_from_xlsx)\n"
      ],
      "metadata": {
        "id": "YW-b9LjIrW4u"
      },
      "execution_count": null,
      "outputs": []
    },
    {
      "cell_type": "markdown",
      "source": [
        "17. Постройте круговую диаграмму для признака Rooms, иллюстрирующую количество квартир в процентах в зависимости от количества комнат. Сделайте сектор с наибольшим числом квартир выдвинутым."
      ],
      "metadata": {
        "id": "Cpa44vttkVIH"
      }
    },
    {
      "cell_type": "code",
      "source": [
        "rooms_count = db['Комнаты'].value_counts()\n",
        "\n",
        "# Сортировка значений по убыванию и выбор первого (наибольшего) значения\n",
        "max_rooms = rooms_count.idxmax()\n",
        "\n",
        "# Подготовка данных для диаграммы\n",
        "labels = rooms_count.index.astype(str)\n",
        "sizes = rooms_count.values\n",
        "explode = [0.1 if room == max_rooms else 0 for room in labels]  # Выдвигаем сектор с наибольшим количеством квартир\n",
        "\n",
        "# Построение круговой диаграммы\n",
        "plt.figure(figsize=(8, 6))\n",
        "plt.pie(sizes, labels=labels, autopct='%1.1f%%', explode=explode, startangle=140)\n",
        "plt.axis('equal')  # Отображение в виде круга\n",
        "\n",
        "plt.title('Процентное соотношение количества квартир по количеству комнат')\n",
        "plt.show()\n"
      ],
      "metadata": {
        "id": "m3XpFEKplOKE"
      },
      "execution_count": null,
      "outputs": []
    },
    {
      "cell_type": "markdown",
      "source": [
        "18. Постройте гистограмму по целевой переменной Price. Оцените визуально, по какой цене продаётся наибольшее количество квартир."
      ],
      "metadata": {
        "id": "BF8VxIVCkXdn"
      }
    },
    {
      "cell_type": "code",
      "source": [
        "# Построение гистограммы\n",
        "plt.figure(figsize=(10, 6))\n",
        "plt.hist(data['Price'], bins=30, color='skyblue', edgecolor='black')  # Выбор числа бинов (колонок) равным 30\n",
        "\n",
        "# Добавление заголовка и подписей к осям\n",
        "plt.title('Гистограмма цен на квартиры')\n",
        "plt.xlabel('Цена')\n",
        "plt.ylabel('Количество квартир')\n",
        "\n",
        "# Отображение наиболее часто встречающейся цены (моды)\n",
        "plt.axvline(x=data['Price'].mode()[0], color='red', linestyle='dashed', linewidth=1, label='Наибольшее количество квартир')\n",
        "\n",
        "# Добавление легенды\n",
        "plt.legend()\n",
        "\n",
        "# Отображение гистограммы\n",
        "plt.show()"
      ],
      "metadata": {
        "id": "D6GEvKn1lOjE"
      },
      "execution_count": null,
      "outputs": []
    },
    {
      "cell_type": "markdown",
      "source": [
        "19. Постройте диаграммы рассеяния для признаков Rooms, Square, HouseFloor, HouseYear в зависимости от целевой переменной Price в одной области figure. Оцените визуально, есть ли среди них такие, на которых разброс точек близок к линейной функции."
      ],
      "metadata": {
        "id": "a5V3B15SkYxm"
      }
    },
    {
      "cell_type": "code",
      "source": [
        "# Создание области figure для диаграмм рассеяния\n",
        "plt.figure(figsize=(15, 5))\n",
        "\n",
        "# Диаграмма рассеяния для признака Rooms\n",
        "plt.subplot(141)\n",
        "plt.scatter(data['Rooms'], data['Price'], alpha=0.5)\n",
        "plt.xlabel('Rooms')\n",
        "plt.ylabel('Price')\n",
        "plt.title('Зависимость цены от Rooms')\n"
      ],
      "metadata": {
        "id": "_Gd5WaTzlO9R"
      },
      "execution_count": null,
      "outputs": []
    },
    {
      "cell_type": "code",
      "source": [
        "# Диаграмма рассеяния для признака Square\n",
        "plt.subplot(142)\n",
        "plt.scatter(data['Square'], data['Price'], alpha=0.5)\n",
        "plt.xlabel('Square')\n",
        "plt.ylabel('Price')\n",
        "plt.title('Зависимость цены от Square')"
      ],
      "metadata": {
        "id": "sicibK7hvNL-"
      },
      "execution_count": null,
      "outputs": []
    },
    {
      "cell_type": "code",
      "source": [
        "# Диаграмма рассеяния для признака HouseFloor\n",
        "plt.subplot(143)\n",
        "plt.scatter(data['HouseFloor'], data['Price'], alpha=0.5)\n",
        "plt.xlabel('HouseFloor')\n",
        "plt.ylabel('Price')\n",
        "plt.title('Зависимость цены от HouseFloor')"
      ],
      "metadata": {
        "id": "l9imOcc0vPgv"
      },
      "execution_count": null,
      "outputs": []
    },
    {
      "cell_type": "code",
      "source": [
        "# Диаграмма рассеяния для признака HouseYear\n",
        "plt.subplot(144)\n",
        "plt.scatter(data['HouseYear'], data['Price'], alpha=0.5)\n",
        "plt.xlabel('HouseYear')\n",
        "plt.ylabel('Price')\n",
        "plt.title('Зависимость цены от HouseYear')"
      ],
      "metadata": {
        "id": "ithcCmYuvRVM"
      },
      "execution_count": null,
      "outputs": []
    },
    {
      "cell_type": "markdown",
      "source": [
        "20. Постройте ядерную оценку плотности целевой переменной Price. Оцените визуально, напоминает ли полученный график нормальное распределение. Постройте двумерную ядерную оценку плотности для целевой переменной Price и признака HouseFloor, затем оцените визуально на каких этажах и по какой цене продаётся основная масса квартир."
      ],
      "metadata": {
        "id": "Thach71FkZ_R"
      }
    },
    {
      "cell_type": "code",
      "source": [
        "# Построение ядерной оценки плотности для переменной Price\n",
        "plt.figure(figsize=(8, 5))\n",
        "sns.kdeplot(data['Price'], shade=True)\n",
        "plt.title('Ядерная оценка плотности переменной Price')\n",
        "plt.xlabel('Price')\n",
        "plt.ylabel('Плотность')\n",
        "plt.show()\n",
        "\n",
        "# Построение двумерной ядерной оценки плотности для переменных Price и HouseFloor\n",
        "sns.jointplot(x=data['Price'], y=data['HouseFloor'], kind='kde', cmap='viridis', fill=True)\n",
        "plt.title('Двумерная ядерная оценка плотности для Price и HouseFloor')\n",
        "plt.xlabel('Price')\n",
        "plt.ylabel('HouseFloor')\n",
        "plt.show()\n"
      ],
      "metadata": {
        "colab": {
          "base_uri": "https://localhost:8080/",
          "height": 1000
        },
        "id": "Tio4bqlZlPWe",
        "outputId": "2de067a4-bc55-404e-9594-00592998d0eb"
      },
      "execution_count": 119,
      "outputs": [
        {
          "output_type": "stream",
          "name": "stderr",
          "text": [
            "<ipython-input-119-867503da0ea3>:3: FutureWarning: \n",
            "\n",
            "`shade` is now deprecated in favor of `fill`; setting `fill=True`.\n",
            "This will become an error in seaborn v0.14.0; please update your code.\n",
            "\n",
            "  sns.kdeplot(data['Price'], shade=True)\n"
          ]
        },
        {
          "output_type": "display_data",
          "data": {
            "text/plain": [
              "<Figure size 800x500 with 1 Axes>"
            ],
            "image/png": "[encoded data removed]"
          },
          "metadata": {}
        },
        {
          "output_type": "stream",
          "name": "stdout",
          "text": [
            " \n",
            " \n",
            " \n"
          ]
        },
        {
          "output_type": "display_data",
          "data": {
            "text/plain": [
              "<Figure size 600x600 with 3 Axes>"
            ],
            "image/png": "[encoded data removed]"
          },
          "metadata": {}
        }
      ]
    },
    {
      "cell_type": "markdown",
      "source": [
        "21. Постройте ящиковую диаграмму признака Square. Оцените визуально имеются ли выбросы, и, если да, то начиная с какого размера площади значение признака можно считать выбросом."
      ],
      "metadata": {
        "id": "J-WVvV-tkcM4"
      }
    },
    {
      "cell_type": "code",
      "source": [
        "import seaborn as sns\n",
        "import matplotlib.pyplot as plt\n",
        "\n",
        "# Построение ящиковой диаграммы для признака Square\n",
        "plt.figure(figsize=(8, 6))\n",
        "sns.boxplot(x=data['Square'])\n",
        "plt.title('Ящиковая диаграмма для признака Square')\n",
        "plt.xlabel('Square')\n",
        "plt.show()"
      ],
      "metadata": {
        "id": "7Ha6Q21mlPwn"
      },
      "execution_count": null,
      "outputs": []
    },
    {
      "cell_type": "markdown",
      "source": [
        "**Какие структуры данных используются в Numpy? В чем их отличие от списков Python?**\n",
        "\n",
        "Структуры данных в NumPy: основная структура данных в NumPy - это многомерный массив (ndarray). Они отличаются от списков Python тем, что ndarray предоставляет эффективное хранение и операции над массивами фиксированного типа, что позволяет выполнять операции над данными более быстро."
      ],
      "metadata": {
        "id": "4ilcgqN8w_Gf"
      }
    },
    {
      "cell_type": "markdown",
      "source": [
        "**Какие функции для генерации массивов использует Numpy?**\n",
        "\n",
        "Функции для генерации массивов в NumPy: NumPy предоставляет функции, такие как np.array(), np.zeros(), np.ones(), np.arange(), np.linspace() и другие для генерации массивов различных размеров и содержимого."
      ],
      "metadata": {
        "id": "pwZDWxLWxEUS"
      }
    },
    {
      "cell_type": "markdown",
      "source": [
        "**Какие способы предлагает Numpy для извлечения данных из массивов?**\n",
        "\n",
        "Способы извлечения данных из массивов в NumPy: В NumPy используются индексация, срезы и булева индексация для извлечения данных из массивов."
      ],
      "metadata": {
        "id": "uanUIX-lxJ3l"
      }
    },
    {
      "cell_type": "markdown",
      "source": [
        "**Что такое векторизация кода и почему это ускоряет работу программ?**\n",
        "\n",
        "Векторизация кода в NumPy: Это процесс, при котором операции выполняются над целыми массивами данных, что позволяет избежать использования явных циклов. Это ускоряет работу программ за счет использования оптимизированных операций над массивами."
      ],
      "metadata": {
        "id": "GaNdXhi4xOH4"
      }
    },
    {
      "cell_type": "markdown",
      "source": [
        "**Какие виды матричных операций реализованы в Numpy?**\n",
        "\n",
        "Виды матричных операций в NumPy: NumPy предоставляет операции для умножения матриц, транспонирования, нахождения обратной матрицы, вычисления собственных значений и векторов и другие операции линейной алгебры."
      ],
      "metadata": {
        "id": "UzjsfbvNxT2l"
      }
    },
    {
      "cell_type": "markdown",
      "source": [
        "**Какие функции используются для преобразования формы, размера и соединения массивов?**\n",
        "\n",
        "Преобразование формы, размера и соединения массивов в NumPy: Для изменения формы и размера массивов используются методы reshape(), resize(), flatten() и другие. Для соединения массивов используются функции np.concatenate(), np.vstack(), np.hstack()."
      ],
      "metadata": {
        "id": "CZWSmkncxaD5"
      }
    },
    {
      "cell_type": "markdown",
      "source": [
        "**Какие две главные структуры данных используются в pandas? В чем их отличие?**\n",
        "\n",
        "Структуры данных в pandas: Основные структуры данных в pandas - это Series и DataFrame. Series - это одномерный массив с метками, а DataFrame - это двумерная структура данных, представляющая собой таблицу."
      ],
      "metadata": {
        "id": "ZblKfADpxdKg"
      }
    },
    {
      "cell_type": "markdown",
      "source": [
        "**Как происходит объединение двух таблиц в pandas?**\n",
        "\n",
        "Объединение таблиц в pandas: Для объединения таблиц в pandas используются методы merge(), concat() и join() в зависимости от способа объединения и их структуры."
      ],
      "metadata": {
        "id": "kijd3EKXxfdE"
      }
    },
    {
      "cell_type": "markdown",
      "source": [
        "**Зачем нужны и как работают индексы в pandas.**\n",
        "\n",
        "Индексы в pandas: Индексы в pandas помогают идентифицировать, извлекать и манипулировать данными. Они позволяют быстро доступать к данным и сохраняют порядок данных."
      ],
      "metadata": {
        "id": "nAAKSmsyxhmq"
      }
    },
    {
      "cell_type": "markdown",
      "source": [
        "**Построение каких основных видов графиков используется при анализе данных в машинном обучении?**\n",
        "\n",
        "Виды графиков для анализа данных в машинном обучении: Основные виды графиков включают гистограммы, диаграммы рассеяния, круговые диаграммы, ящиковые диаграммы, тепловые карты и другие."
      ],
      "metadata": {
        "id": "UXnPz4drxmZ9"
      }
    },
    {
      "cell_type": "markdown",
      "source": [
        "**В чём разница между библиотеками matplotlib и seaborn? Каковы преимущества каждой из них?**\n",
        "\n",
        "Разница между matplotlib и seaborn: Matplotlib - это библиотека для создания различных видов графиков, тогда как Seaborn - это надстройка над Matplotlib, предоставляющая удобные функции для создания статистических графиков с более простым синтаксисом."
      ],
      "metadata": {
        "id": "5qtn2h3hxnvh"
      }
    },
    {
      "cell_type": "markdown",
      "source": [
        "**Как задать размер графика в matplotlib?**\n",
        "\n",
        "Размер графика в matplotlib: Размер графика можно задать с помощью функции plt.figure(figsize=(width, height))."
      ],
      "metadata": {
        "id": "vIzA0UmsxqTX"
      }
    },
    {
      "cell_type": "markdown",
      "source": [
        "**Как установить стили в seaborn?**\n",
        "\n",
        "Установка стилей в seaborn: Стили в seaborn можно установить с помощью sns.set_style(), где можно выбрать стиль из доступных: \"whitegrid\", \"darkgrid\", \"ticks\", \"white\", \"dark\" и другие."
      ],
      "metadata": {
        "id": "UDnylHPzxs46"
      }
    },
    {
      "cell_type": "markdown",
      "source": [
        "**Для чего используют подграфики subplots?**\n",
        "\n",
        "Использование подграфиков subplots: Подграфики subplots позволяют создавать несколько графиков на одной общей плоскости, улучшая сравнение и визуализацию нескольких данных.\n",
        "\n"
      ],
      "metadata": {
        "id": "36orBHz_xwLX"
      }
    },
    {
      "cell_type": "markdown",
      "source": [
        "**Какие основные типы графиков реализованы в matplotlib? Что изображается на ящиковой диаграмме?**\n",
        "\n",
        "Основные типы графиков в matplotlib: В matplotlib реализованы линейные графики, гистограммы, диаграммы рассеяния, ящиковые диаграммы и другие. На ящиковой диаграмме отображаются описательные статистики: медиана, квартили, выбросы."
      ],
      "metadata": {
        "id": "6n1_YAfLxxuP"
      }
    },
    {
      "cell_type": "markdown",
      "source": [
        "**Как поменять палитру цветов у тепловой карты?**\n",
        "\n",
        "Изменение палитры цветов у тепловой карты: Для изменения палитры цветов у тепловой карты в seaborn можно использовать функцию sns.heatmap() с аргументом cmap, указав нужную цветовую карту (например, 'viridis', 'coolwarm', 'magma' и т.д.)."
      ],
      "metadata": {
        "id": "gm3bQ0Vzxzz1"
      }
    }
  ]
}