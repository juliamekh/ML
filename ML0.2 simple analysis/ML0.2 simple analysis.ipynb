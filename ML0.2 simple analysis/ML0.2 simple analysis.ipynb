{
 "cells": [
  {
   "cell_type": "markdown",
   "source": [
    "### Простой анализ данных\n",
    "\n",
    "#### Цель работы\n",
    "\n",
    "Освоить основные приемы работы с библиотекой pandas для простого статистического анализа данных.\n",
    "\n",
    "Даны данные результатов ЕГЭ по различным предметам.\n"
   ],
   "metadata": {
    "collapsed": false
   },
   "id": "971bcd37cd4fce18"
  },
  {
   "cell_type": "code",
   "outputs": [],
   "source": [
    "import pandas as pd\n",
    "import os"
   ],
   "metadata": {
    "collapsed": false,
    "ExecuteTime": {
     "end_time": "2024-02-26T06:23:15.832435Z",
     "start_time": "2024-02-26T06:23:15.828083Z"
    }
   },
   "id": "5e006db6112d8d28",
   "execution_count": 5
  },
  {
   "cell_type": "markdown",
   "source": [
    "1. Загрузите данные по вариантам в ноутбук."
   ],
   "metadata": {
    "collapsed": false
   },
   "id": "70ed2ccb0a932747"
  },
  {
   "cell_type": "code",
   "outputs": [
    {
     "name": "stdout",
     "output_type": "stream",
     "text": [
      "DataFrame для Варианта 1:\n",
      "  01-Русский язык Unnamed: 1 Unnamed: 2 Unnamed: 3      Unnamed: 4  \\\n",
      "0             NaN        NaN        NaN        NaN             NaN   \n",
      "1               №    № школы      Класс        Пол  Номер варианта   \n",
      "2               1        117         11          М             341   \n",
      "3               2        148        12А          М             338   \n",
      "4               3        152         13          Ж             104   \n",
      "\n",
      "                  Unnamed: 5  \\\n",
      "0                        NaN   \n",
      "1  Задания с кратким ответом   \n",
      "2  1+++--1+-++---0---------0   \n",
      "3  1+---+0--+---+0----++-+-0   \n",
      "4  2-----0--+----1---------1   \n",
      "\n",
      "                                         Unnamed: 6    Unnamed: 7  \\\n",
      "0                                               NaN           NaN   \n",
      "1                     Задания с развёрнутым ответом  Устная часть   \n",
      "2  0(1)0(3)0(1)0(3)0(2)0(2)0(3)0(3)0(2)0(2)0(1)0(1)           NaN   \n",
      "3  0(1)0(3)0(1)0(3)0(2)0(2)0(3)0(3)0(2)0(2)0(1)0(1)           NaN   \n",
      "4  0(1)0(3)0(1)0(3)0(2)0(2)0(3)1(3)0(2)1(2)1(1)1(1)           NaN   \n",
      "\n",
      "       Unnamed: 8 Unnamed: 9       Unnamed: 10  \n",
      "0             NaN        NaN               NaN  \n",
      "1  Первичный балл       Балл  Минимальный балл  \n",
      "2               8         20                24  \n",
      "3               8         20                24  \n",
      "4               9         22                24  \n",
      "DataFrame для Варианта 3:\n",
      "  03-Физика Unnamed: 1 Unnamed: 2 Unnamed: 3      Unnamed: 4  \\\n",
      "0       NaN        NaN        NaN        NaN             NaN   \n",
      "1         №    № школы      Класс        Пол  Номер варианта   \n",
      "2         1        152         11          М             333   \n",
      "3         2        140         12          Ж             332   \n",
      "4         3        137         11          М             328   \n",
      "\n",
      "                    Unnamed: 5                     Unnamed: 6    Unnamed: 7  \\\n",
      "0                          NaN                            NaN           NaN   \n",
      "1    Задания с кратким ответом  Задания с развёрнутым ответом  Устная часть   \n",
      "2  ----001---00---000--1-+0---           0(3)0(3)0(3)0(3)0(3)           NaN   \n",
      "3  ----100---01-+-000--0--1---           0(3)0(3)0(3)0(3)0(3)           NaN   \n",
      "4  --+-010---00---101--0--1---           0(3)0(3)0(3)0(3)0(3)           NaN   \n",
      "\n",
      "       Unnamed: 8 Unnamed: 9       Unnamed: 10  \n",
      "0             NaN        NaN               NaN  \n",
      "1  Первичный балл       Балл  Минимальный балл  \n",
      "2               3         10                36  \n",
      "3               4         14                36  \n",
      "4               5         17                36  \n",
      "DataFrame для Варианта 2:\n",
      "  02-Математика профильная Unnamed: 1 Unnamed: 2 Unnamed: 3      Unnamed: 4  \\\n",
      "0                      NaN        NaN        NaN        NaN             NaN   \n",
      "1                        №    № школы      Класс        Пол  Номер варианта   \n",
      "2                        1        124         11          Ж             341   \n",
      "3                        2        128         11          Ж             345   \n",
      "4                        3        132         11          Ж             340   \n",
      "\n",
      "                  Unnamed: 5                     Unnamed: 6    Unnamed: 7  \\\n",
      "0                        NaN                            NaN           NaN   \n",
      "1  Задания с кратким ответом  Задания с развёрнутым ответом  Устная часть   \n",
      "2               ------+-----   0(2)0(2)0(2)0(3)0(3)0(4)0(4)           NaN   \n",
      "3               -+----------   0(2)0(2)0(2)0(3)0(3)0(4)0(4)           NaN   \n",
      "4               -+----------   0(2)0(2)0(2)0(3)0(3)0(4)0(4)           NaN   \n",
      "\n",
      "       Unnamed: 8 Unnamed: 9       Unnamed: 10  \n",
      "0             NaN        NaN               NaN  \n",
      "1  Первичный балл       Балл  Минимальный балл  \n",
      "2               1          5                27  \n",
      "3               1          5                27  \n",
      "4               1          5                27  \n",
      "DataFrame для Варианта 4:\n",
      "  05-Информатика и ИКТ Unnamed: 1 Unnamed: 2 Unnamed: 3      Unnamed: 4  \\\n",
      "0                  NaN        NaN        NaN        NaN             NaN   \n",
      "1                    №    № школы      Класс        Пол  Номер варианта   \n",
      "2                    1        148         13          М             505   \n",
      "3                    2        147         11          М             328   \n",
      "4                    3        111         11          М             330   \n",
      "\n",
      "                  Unnamed: 5                     Unnamed: 6    Unnamed: 7  \\\n",
      "0                        NaN                            NaN           NaN   \n",
      "1  Задания с кратким ответом  Задания с развёрнутым ответом  Устная часть   \n",
      "2    -----------------------               0(3)0(2)0(3)0(4)           NaN   \n",
      "3    -----------------------               0(3)0(2)0(3)0(4)           NaN   \n",
      "4    ---+---+-+-------------               0(3)0(2)0(3)0(4)           NaN   \n",
      "\n",
      "       Unnamed: 8 Unnamed: 9       Unnamed: 10  \n",
      "0             NaN        NaN               NaN  \n",
      "1  Первичный балл       Балл  Минимальный балл  \n",
      "2               0          0                40  \n",
      "3               0          0                40  \n",
      "4               3         20                40  \n",
      "[]\n",
      "Index(['05-Информатика и ИКТ', 'Unnamed: 1', 'Unnamed: 2', 'Unnamed: 3',\n",
      "       'Unnamed: 4', 'Unnamed: 5', 'Unnamed: 6', 'Unnamed: 7', 'Unnamed: 8',\n",
      "       'Unnamed: 9', 'Unnamed: 10'],\n",
      "      dtype='object')\n"
     ]
    }
   ],
   "source": [
    "current_directory = os.getcwd() # Получаем текущий рабочий каталог\n",
    "data_directory = os.path.join(current_directory, 'data') # Путь к папке с данными\n",
    "file_names = os.listdir(data_directory) # Список файлов в папке данных\n",
    "dataframes = {} # Создаем пустой словарь для хранения данных из файлов\n",
    "\n",
    "# Фильтруем файлы по названию и загружаем их в словарь\n",
    "for file_name in file_names:\n",
    "    if file_name.startswith('Вариант') and file_name.endswith('.xlsx'):\n",
    "        file_path = os.path.join(data_directory, file_name)\n",
    "        df = pd.read_excel(file_path)\n",
    "        variant_number = file_name.split()[1].split('.')[0]  # получаем номер варианта из имени файла\n",
    "        dataframes[variant_number] = df\n",
    "\n",
    "# Выводим первые несколько строк каждого DataFrame для проверки\n",
    "for variant, df in dataframes.items():\n",
    "    print(f\"DataFrame для Варианта {variant}:\")\n",
    "    print(df.head())\n",
    "\n",
    "# Создаем пустой список для хранения данных о баллах учащихся\n",
    "all_scores = []\n",
    "    "
   ],
   "metadata": {
    "collapsed": false,
    "ExecuteTime": {
     "end_time": "2024-02-26T09:20:29.561957Z",
     "start_time": "2024-02-26T09:20:28.430063Z"
    }
   },
   "id": "428b1ca5916313a0",
   "execution_count": 30
  },
  {
   "cell_type": "markdown",
   "source": [
    "2. Сделайте описательную статистику полученных данных."
   ],
   "metadata": {
    "collapsed": false
   },
   "id": "957b7b3dfe6b9e20"
  },
  {
   "cell_type": "code",
   "outputs": [
    {
     "name": "stdout",
     "output_type": "stream",
     "text": [
      "[]\n",
      "Index(['05-Информатика и ИКТ', 'Unnamed: 1', 'Unnamed: 2', 'Unnamed: 3',\n",
      "       'Unnamed: 4', 'Unnamed: 5', 'Unnamed: 6', 'Unnamed: 7', 'Unnamed: 8',\n",
      "       'Unnamed: 9', 'Unnamed: 10'],\n",
      "      dtype='object')\n"
     ]
    },
    {
     "data": {
      "text/plain": "'# Вычисляем средний балл учащихся\\naverage_score = sum(all_scores) / len(all_scores)\\n\\n# Подсчитываем количество учащихся с баллом ниже среднего\\nbelow_average_count = sum(score < average_score for score in all_scores)\\n\\n# Вычисляем процент учащихся с баллом ниже среднего\\ntotal_students = len(all_scores)\\npercentage_below_average = (below_average_count / total_students) * 100\\n\\nprint(f\"Средний балл: {average_score:.2f}\")\\nprint(f\"Количество учащихся с баллом ниже среднего: {below_average_count}\")\\nprint(f\"Процент учащихся с баллом ниже среднего: {percentage_below_average:.2f}%\")\\n'"
     },
     "execution_count": 28,
     "metadata": {},
     "output_type": "execute_result"
    }
   ],
   "source": [
    "# Создаем пустой список для хранения данных о баллах учащихся\n",
    "all_scores = []\n",
    "\n",
    "# Читаем данные из всех файлов Excel и сохраняем баллы учеников в список\n",
    "for variant, df in dataframes.items():\n",
    "    if 'Балл' in df.columns:  # Проверяем наличие столбца 'Балл'\n",
    "        all_scores.extend(df['Балл'][2:])  # Игнорируем первые две строки (пустые) и сохраняем баллы\n",
    "print(all_scores)\n",
    "print(df.columns)"
   ],
   "metadata": {
    "collapsed": false,
    "ExecuteTime": {
     "end_time": "2024-02-26T06:56:16.275040Z",
     "start_time": "2024-02-26T06:56:16.266073Z"
    }
   },
   "id": "35b3a51d2ba07d29",
   "execution_count": 28
  },
  {
   "cell_type": "code",
   "outputs": [
    {
     "ename": "FileNotFoundError",
     "evalue": "[Errno 2] No such file or directory: 'имя_файла.xlsx'",
     "output_type": "error",
     "traceback": [
      "\u001B[0;31m---------------------------------------------------------------------------\u001B[0m",
      "\u001B[0;31mFileNotFoundError\u001B[0m                         Traceback (most recent call last)",
      "Cell \u001B[0;32mIn[29], line 4\u001B[0m\n\u001B[1;32m      1\u001B[0m \u001B[38;5;28;01mimport\u001B[39;00m \u001B[38;5;21;01mpandas\u001B[39;00m \u001B[38;5;28;01mas\u001B[39;00m \u001B[38;5;21;01mpd\u001B[39;00m\n\u001B[1;32m      3\u001B[0m \u001B[38;5;66;03m# Загрузить данные из файла Excel\u001B[39;00m\n\u001B[0;32m----> 4\u001B[0m df \u001B[38;5;241m=\u001B[39m \u001B[43mpd\u001B[49m\u001B[38;5;241;43m.\u001B[39;49m\u001B[43mread_excel\u001B[49m\u001B[43m(\u001B[49m\u001B[38;5;124;43m'\u001B[39;49m\u001B[38;5;124;43mимя_файла.xlsx\u001B[39;49m\u001B[38;5;124;43m'\u001B[39;49m\u001B[43m)\u001B[49m\n\u001B[1;32m      6\u001B[0m \u001B[38;5;66;03m# Выбрать столбец 'Балл' и преобразовать его в список\u001B[39;00m\n\u001B[1;32m      7\u001B[0m баллы \u001B[38;5;241m=\u001B[39m df[\u001B[38;5;124m'\u001B[39m\u001B[38;5;124mБалл\u001B[39m\u001B[38;5;124m'\u001B[39m]\u001B[38;5;241m.\u001B[39mtolist()\n",
      "File \u001B[0;32m~/anaconda3/lib/python3.10/site-packages/pandas/util/_decorators.py:211\u001B[0m, in \u001B[0;36mdeprecate_kwarg.<locals>._deprecate_kwarg.<locals>.wrapper\u001B[0;34m(*args, **kwargs)\u001B[0m\n\u001B[1;32m    209\u001B[0m     \u001B[38;5;28;01melse\u001B[39;00m:\n\u001B[1;32m    210\u001B[0m         kwargs[new_arg_name] \u001B[38;5;241m=\u001B[39m new_arg_value\n\u001B[0;32m--> 211\u001B[0m \u001B[38;5;28;01mreturn\u001B[39;00m \u001B[43mfunc\u001B[49m\u001B[43m(\u001B[49m\u001B[38;5;241;43m*\u001B[39;49m\u001B[43margs\u001B[49m\u001B[43m,\u001B[49m\u001B[43m \u001B[49m\u001B[38;5;241;43m*\u001B[39;49m\u001B[38;5;241;43m*\u001B[39;49m\u001B[43mkwargs\u001B[49m\u001B[43m)\u001B[49m\n",
      "File \u001B[0;32m~/anaconda3/lib/python3.10/site-packages/pandas/util/_decorators.py:331\u001B[0m, in \u001B[0;36mdeprecate_nonkeyword_arguments.<locals>.decorate.<locals>.wrapper\u001B[0;34m(*args, **kwargs)\u001B[0m\n\u001B[1;32m    325\u001B[0m \u001B[38;5;28;01mif\u001B[39;00m \u001B[38;5;28mlen\u001B[39m(args) \u001B[38;5;241m>\u001B[39m num_allow_args:\n\u001B[1;32m    326\u001B[0m     warnings\u001B[38;5;241m.\u001B[39mwarn(\n\u001B[1;32m    327\u001B[0m         msg\u001B[38;5;241m.\u001B[39mformat(arguments\u001B[38;5;241m=\u001B[39m_format_argument_list(allow_args)),\n\u001B[1;32m    328\u001B[0m         \u001B[38;5;167;01mFutureWarning\u001B[39;00m,\n\u001B[1;32m    329\u001B[0m         stacklevel\u001B[38;5;241m=\u001B[39mfind_stack_level(),\n\u001B[1;32m    330\u001B[0m     )\n\u001B[0;32m--> 331\u001B[0m \u001B[38;5;28;01mreturn\u001B[39;00m \u001B[43mfunc\u001B[49m\u001B[43m(\u001B[49m\u001B[38;5;241;43m*\u001B[39;49m\u001B[43margs\u001B[49m\u001B[43m,\u001B[49m\u001B[43m \u001B[49m\u001B[38;5;241;43m*\u001B[39;49m\u001B[38;5;241;43m*\u001B[39;49m\u001B[43mkwargs\u001B[49m\u001B[43m)\u001B[49m\n",
      "File \u001B[0;32m~/anaconda3/lib/python3.10/site-packages/pandas/io/excel/_base.py:482\u001B[0m, in \u001B[0;36mread_excel\u001B[0;34m(io, sheet_name, header, names, index_col, usecols, squeeze, dtype, engine, converters, true_values, false_values, skiprows, nrows, na_values, keep_default_na, na_filter, verbose, parse_dates, date_parser, thousands, decimal, comment, skipfooter, convert_float, mangle_dupe_cols, storage_options)\u001B[0m\n\u001B[1;32m    480\u001B[0m \u001B[38;5;28;01mif\u001B[39;00m \u001B[38;5;129;01mnot\u001B[39;00m \u001B[38;5;28misinstance\u001B[39m(io, ExcelFile):\n\u001B[1;32m    481\u001B[0m     should_close \u001B[38;5;241m=\u001B[39m \u001B[38;5;28;01mTrue\u001B[39;00m\n\u001B[0;32m--> 482\u001B[0m     io \u001B[38;5;241m=\u001B[39m \u001B[43mExcelFile\u001B[49m\u001B[43m(\u001B[49m\u001B[43mio\u001B[49m\u001B[43m,\u001B[49m\u001B[43m \u001B[49m\u001B[43mstorage_options\u001B[49m\u001B[38;5;241;43m=\u001B[39;49m\u001B[43mstorage_options\u001B[49m\u001B[43m,\u001B[49m\u001B[43m \u001B[49m\u001B[43mengine\u001B[49m\u001B[38;5;241;43m=\u001B[39;49m\u001B[43mengine\u001B[49m\u001B[43m)\u001B[49m\n\u001B[1;32m    483\u001B[0m \u001B[38;5;28;01melif\u001B[39;00m engine \u001B[38;5;129;01mand\u001B[39;00m engine \u001B[38;5;241m!=\u001B[39m io\u001B[38;5;241m.\u001B[39mengine:\n\u001B[1;32m    484\u001B[0m     \u001B[38;5;28;01mraise\u001B[39;00m \u001B[38;5;167;01mValueError\u001B[39;00m(\n\u001B[1;32m    485\u001B[0m         \u001B[38;5;124m\"\u001B[39m\u001B[38;5;124mEngine should not be specified when passing \u001B[39m\u001B[38;5;124m\"\u001B[39m\n\u001B[1;32m    486\u001B[0m         \u001B[38;5;124m\"\u001B[39m\u001B[38;5;124man ExcelFile - ExcelFile already has the engine set\u001B[39m\u001B[38;5;124m\"\u001B[39m\n\u001B[1;32m    487\u001B[0m     )\n",
      "File \u001B[0;32m~/anaconda3/lib/python3.10/site-packages/pandas/io/excel/_base.py:1652\u001B[0m, in \u001B[0;36mExcelFile.__init__\u001B[0;34m(self, path_or_buffer, engine, storage_options)\u001B[0m\n\u001B[1;32m   1650\u001B[0m     ext \u001B[38;5;241m=\u001B[39m \u001B[38;5;124m\"\u001B[39m\u001B[38;5;124mxls\u001B[39m\u001B[38;5;124m\"\u001B[39m\n\u001B[1;32m   1651\u001B[0m \u001B[38;5;28;01melse\u001B[39;00m:\n\u001B[0;32m-> 1652\u001B[0m     ext \u001B[38;5;241m=\u001B[39m \u001B[43minspect_excel_format\u001B[49m\u001B[43m(\u001B[49m\n\u001B[1;32m   1653\u001B[0m \u001B[43m        \u001B[49m\u001B[43mcontent_or_path\u001B[49m\u001B[38;5;241;43m=\u001B[39;49m\u001B[43mpath_or_buffer\u001B[49m\u001B[43m,\u001B[49m\u001B[43m \u001B[49m\u001B[43mstorage_options\u001B[49m\u001B[38;5;241;43m=\u001B[39;49m\u001B[43mstorage_options\u001B[49m\n\u001B[1;32m   1654\u001B[0m \u001B[43m    \u001B[49m\u001B[43m)\u001B[49m\n\u001B[1;32m   1655\u001B[0m     \u001B[38;5;28;01mif\u001B[39;00m ext \u001B[38;5;129;01mis\u001B[39;00m \u001B[38;5;28;01mNone\u001B[39;00m:\n\u001B[1;32m   1656\u001B[0m         \u001B[38;5;28;01mraise\u001B[39;00m \u001B[38;5;167;01mValueError\u001B[39;00m(\n\u001B[1;32m   1657\u001B[0m             \u001B[38;5;124m\"\u001B[39m\u001B[38;5;124mExcel file format cannot be determined, you must specify \u001B[39m\u001B[38;5;124m\"\u001B[39m\n\u001B[1;32m   1658\u001B[0m             \u001B[38;5;124m\"\u001B[39m\u001B[38;5;124man engine manually.\u001B[39m\u001B[38;5;124m\"\u001B[39m\n\u001B[1;32m   1659\u001B[0m         )\n",
      "File \u001B[0;32m~/anaconda3/lib/python3.10/site-packages/pandas/io/excel/_base.py:1525\u001B[0m, in \u001B[0;36minspect_excel_format\u001B[0;34m(content_or_path, storage_options)\u001B[0m\n\u001B[1;32m   1522\u001B[0m \u001B[38;5;28;01mif\u001B[39;00m \u001B[38;5;28misinstance\u001B[39m(content_or_path, \u001B[38;5;28mbytes\u001B[39m):\n\u001B[1;32m   1523\u001B[0m     content_or_path \u001B[38;5;241m=\u001B[39m BytesIO(content_or_path)\n\u001B[0;32m-> 1525\u001B[0m \u001B[38;5;28;01mwith\u001B[39;00m \u001B[43mget_handle\u001B[49m\u001B[43m(\u001B[49m\n\u001B[1;32m   1526\u001B[0m \u001B[43m    \u001B[49m\u001B[43mcontent_or_path\u001B[49m\u001B[43m,\u001B[49m\u001B[43m \u001B[49m\u001B[38;5;124;43m\"\u001B[39;49m\u001B[38;5;124;43mrb\u001B[39;49m\u001B[38;5;124;43m\"\u001B[39;49m\u001B[43m,\u001B[49m\u001B[43m \u001B[49m\u001B[43mstorage_options\u001B[49m\u001B[38;5;241;43m=\u001B[39;49m\u001B[43mstorage_options\u001B[49m\u001B[43m,\u001B[49m\u001B[43m \u001B[49m\u001B[43mis_text\u001B[49m\u001B[38;5;241;43m=\u001B[39;49m\u001B[38;5;28;43;01mFalse\u001B[39;49;00m\n\u001B[1;32m   1527\u001B[0m \u001B[43m\u001B[49m\u001B[43m)\u001B[49m \u001B[38;5;28;01mas\u001B[39;00m handle:\n\u001B[1;32m   1528\u001B[0m     stream \u001B[38;5;241m=\u001B[39m handle\u001B[38;5;241m.\u001B[39mhandle\n\u001B[1;32m   1529\u001B[0m     stream\u001B[38;5;241m.\u001B[39mseek(\u001B[38;5;241m0\u001B[39m)\n",
      "File \u001B[0;32m~/anaconda3/lib/python3.10/site-packages/pandas/io/common.py:865\u001B[0m, in \u001B[0;36mget_handle\u001B[0;34m(path_or_buf, mode, encoding, compression, memory_map, is_text, errors, storage_options)\u001B[0m\n\u001B[1;32m    856\u001B[0m         handle \u001B[38;5;241m=\u001B[39m \u001B[38;5;28mopen\u001B[39m(\n\u001B[1;32m    857\u001B[0m             handle,\n\u001B[1;32m    858\u001B[0m             ioargs\u001B[38;5;241m.\u001B[39mmode,\n\u001B[0;32m   (...)\u001B[0m\n\u001B[1;32m    861\u001B[0m             newline\u001B[38;5;241m=\u001B[39m\u001B[38;5;124m\"\u001B[39m\u001B[38;5;124m\"\u001B[39m,\n\u001B[1;32m    862\u001B[0m         )\n\u001B[1;32m    863\u001B[0m     \u001B[38;5;28;01melse\u001B[39;00m:\n\u001B[1;32m    864\u001B[0m         \u001B[38;5;66;03m# Binary mode\u001B[39;00m\n\u001B[0;32m--> 865\u001B[0m         handle \u001B[38;5;241m=\u001B[39m \u001B[38;5;28;43mopen\u001B[39;49m\u001B[43m(\u001B[49m\u001B[43mhandle\u001B[49m\u001B[43m,\u001B[49m\u001B[43m \u001B[49m\u001B[43mioargs\u001B[49m\u001B[38;5;241;43m.\u001B[39;49m\u001B[43mmode\u001B[49m\u001B[43m)\u001B[49m\n\u001B[1;32m    866\u001B[0m     handles\u001B[38;5;241m.\u001B[39mappend(handle)\n\u001B[1;32m    868\u001B[0m \u001B[38;5;66;03m# Convert BytesIO or file objects passed with an encoding\u001B[39;00m\n",
      "\u001B[0;31mFileNotFoundError\u001B[0m: [Errno 2] No such file or directory: 'имя_файла.xlsx'"
     ]
    }
   ],
   "source": [
    "import pandas as pd\n",
    "\n",
    "# Загрузить данные из файла Excel\n",
    "df = pd.read_excel('имя_файла.xlsx')\n",
    "\n",
    "# Выбрать столбец 'Балл' и преобразовать его в список\n",
    "баллы = df['Балл'].tolist()\n",
    "\n",
    "# Преобразовать список в строку\n",
    "a = ','.join(map(str, баллы))\n",
    "\n",
    "# Вывести результат\n",
    "print(a)\n"
   ],
   "metadata": {
    "collapsed": false,
    "ExecuteTime": {
     "end_time": "2024-02-26T09:20:04.747735Z",
     "start_time": "2024-02-26T09:20:04.328951Z"
    }
   },
   "id": "f88907fd68e4ad14",
   "execution_count": 29
  },
  {
   "cell_type": "code",
   "outputs": [],
   "source": [
    "# Вычисляем средний балл учащихся\n",
    "average_score = sum(all_scores) / len(all_scores)\n",
    "\n",
    "# Подсчитываем количество учащихся с баллом ниже среднего\n",
    "below_average_count = sum(score < average_score for score in all_scores)\n",
    "\n",
    "# Вычисляем процент учащихся с баллом ниже среднего\n",
    "total_students = len(all_scores)\n",
    "percentage_below_average = (below_average_count / total_students) * 100\n",
    "\n",
    "print(f\"Средний балл: {average_score:.2f}\")\n",
    "print(f\"Количество учащихся с баллом ниже среднего: {below_average_count}\")\n",
    "print(f\"Процент учащихся с баллом ниже среднего: {percentage_below_average:.2f}%\")"
   ],
   "metadata": {
    "collapsed": false
   },
   "id": "838f46bba005a76f"
  },
  {
   "cell_type": "markdown",
   "source": [
    "3. Найдите процент учащихся, выполнивших работу ниже среднего."
   ],
   "metadata": {
    "collapsed": false
   },
   "id": "45cc114fd2ef78d5"
  },
  {
   "cell_type": "code",
   "outputs": [],
   "source": [],
   "metadata": {
    "collapsed": false
   },
   "id": "ff2ab18256548b58"
  },
  {
   "cell_type": "markdown",
   "source": [
    "4. Найти процент учащихся не сдавших экзамен."
   ],
   "metadata": {
    "collapsed": false
   },
   "id": "aba83a6227f14608"
  },
  {
   "cell_type": "code",
   "outputs": [],
   "source": [],
   "metadata": {
    "collapsed": false
   },
   "id": "c1ee88b7ca54447b"
  },
  {
   "cell_type": "markdown",
   "source": [
    "5. Постройте круговую диаграмму, показывающую распределение сдавших и не сдавших экзамен."
   ],
   "metadata": {
    "collapsed": false
   },
   "id": "fd88f83d1f8e432b"
  },
  {
   "cell_type": "code",
   "outputs": [],
   "source": [],
   "metadata": {
    "collapsed": false
   },
   "id": "a19232d40f5bdb5"
  },
  {
   "cell_type": "markdown",
   "source": [
    "6. Постройте ядерную оценку плотности распределению баллов за экзамен."
   ],
   "metadata": {
    "collapsed": false
   },
   "id": "dd3fb84510ae4316"
  },
  {
   "cell_type": "code",
   "outputs": [],
   "source": [],
   "metadata": {
    "collapsed": false
   },
   "id": "e22b3e898de0bb50"
  },
  {
   "cell_type": "markdown",
   "source": [
    "7. Найдите процентное соотношение учащихся, сдавших экзамен на «отлично», «хорошо», «удовлетворительно», «неудовлетворительно»."
   ],
   "metadata": {
    "collapsed": false
   },
   "id": "dbc0cd638cfd917c"
  },
  {
   "cell_type": "code",
   "outputs": [],
   "source": [],
   "metadata": {
    "collapsed": false
   },
   "id": "9dd513777da72f45"
  },
  {
   "cell_type": "markdown",
   "source": [
    "8. Какое процентное соотношение юношей и девушек писало данный экзамен?"
   ],
   "metadata": {
    "collapsed": false
   },
   "id": "3405063e23ad313a"
  },
  {
   "cell_type": "code",
   "outputs": [],
   "source": [],
   "metadata": {
    "collapsed": false
   },
   "id": "ace542ab0724926e"
  },
  {
   "cell_type": "markdown",
   "source": [
    "9. Сколько школ принимало участие в экзамене?"
   ],
   "metadata": {
    "collapsed": false
   },
   "id": "2ce004eb62c82d5e"
  },
  {
   "cell_type": "code",
   "outputs": [],
   "source": [],
   "metadata": {
    "collapsed": false
   },
   "id": "19cb2dafb66c8906"
  },
  {
   "cell_type": "markdown",
   "source": [
    "10. Сколько всего заданий с кратким ответом? С развернутым ответом?"
   ],
   "metadata": {
    "collapsed": false
   },
   "id": "5013647dbcd9799c"
  },
  {
   "cell_type": "code",
   "outputs": [],
   "source": [],
   "metadata": {
    "collapsed": false
   },
   "id": "9ef90531543a0fb"
  },
  {
   "cell_type": "markdown",
   "source": [
    "11. Пусть задания с кратким ответом будут задания типа В. Соответственно всего по экзамену вопросов класса В: $В_1$, ... $В_к$ Посчитайте процент выполненных и невыполненных заданий по каждому вопросу класса В."
   ],
   "metadata": {
    "collapsed": false
   },
   "id": "3afabd998487c6ca"
  },
  {
   "cell_type": "code",
   "outputs": [],
   "source": [],
   "metadata": {
    "collapsed": false
   },
   "id": "d483e2714722877a"
  },
  {
   "cell_type": "markdown",
   "source": [
    "12. Аналогично и с типом С (ответы с развернутым ответом)"
   ],
   "metadata": {
    "collapsed": false
   },
   "id": "a8ad4b5d94ca2f4"
  },
  {
   "cell_type": "markdown",
   "source": [],
   "metadata": {
    "collapsed": false
   },
   "id": "7e3ac0ca5cb30ca9"
  },
  {
   "cell_type": "markdown",
   "source": [
    "13. Сделайте анализ по двум школам:\n",
    "1. по всем выполненным заданиям типа В\n",
    "2. по заданиям типа С больше 50%\n",
    "3. по среднему баллу юношей и девушек"
   ],
   "metadata": {
    "collapsed": false
   },
   "id": "b29efc4db8b9c06b"
  },
  {
   "cell_type": "code",
   "outputs": [],
   "source": [],
   "metadata": {
    "collapsed": false,
    "ExecuteTime": {
     "end_time": "2024-02-26T06:41:32.139652Z",
     "start_time": "2024-02-26T06:41:32.136663Z"
    }
   },
   "id": "dec0da0e28454707",
   "execution_count": 13
  }
 ],
 "metadata": {
  "kernelspec": {
   "display_name": "Python 3",
   "language": "python",
   "name": "python3"
  },
  "language_info": {
   "codemirror_mode": {
    "name": "ipython",
    "version": 2
   },
   "file_extension": ".py",
   "mimetype": "text/x-python",
   "name": "python",
   "nbconvert_exporter": "python",
   "pygments_lexer": "ipython2",
   "version": "2.7.6"
  }
 },
 "nbformat": 4,
 "nbformat_minor": 5
}
